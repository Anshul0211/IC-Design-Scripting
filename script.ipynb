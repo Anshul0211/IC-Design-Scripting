{
 "cells": [
  {
   "cell_type": "code",
   "execution_count": 18,
   "metadata": {},
   "outputs": [],
   "source": [
    "import os\n",
    "import numpy as np\n",
    "import pandas as pd\n"
   ]
  },
  {
   "cell_type": "code",
   "execution_count": 19,
   "metadata": {},
   "outputs": [],
   "source": [
    "models = os.listdir(f\"Modules\")"
   ]
  },
  {
   "cell_type": "code",
   "execution_count": 20,
   "metadata": {},
   "outputs": [
    {
     "data": {
      "text/plain": [
       "0"
      ]
     },
     "execution_count": 20,
     "metadata": {},
     "output_type": "execute_result"
    }
   ],
   "source": [
    "os.system(\"vivado -mode batch -source tcl_create.tcl\")   #creating new project"
   ]
  },
  {
   "cell_type": "code",
   "execution_count": 21,
   "metadata": {},
   "outputs": [],
   "source": [
    "for mod in models:\n",
    "    os.system(f\"vivado -mode batch -source  tcl_add.tcl -tclargs {mod}\") # adding the modules to the project"
   ]
  },
  {
   "cell_type": "code",
   "execution_count": 22,
   "metadata": {},
   "outputs": [],
   "source": [
    "os.mkdir(\"results\")"
   ]
  },
  {
   "cell_type": "code",
   "execution_count": 23,
   "metadata": {},
   "outputs": [
    {
     "name": "stdout",
     "output_type": "stream",
     "text": [
      "adder_1bit.v reported\n",
      "Barrel_shifter.v reported\n",
      "binary_multiplier.v reported\n",
      "Implementation failed for convolution.v\n",
      "FSM_mealy.v reported\n",
      "FSM_moore.v reported\n",
      "logic_gate.v reported\n",
      "shifter.v reported\n",
      "Synthesis failed for sorter.v\n",
      "universal_register.v reported\n"
     ]
    }
   ],
   "source": [
    "data_files = [] #only append implemented files in the data files list\n",
    "\n",
    "for filename in models:\n",
    "    os.mkdir(\"results/\"+filename[:-2])\n",
    "    os.system(\"vivado -mode batch -source  tcl_run.tcl -tclargs {}\".format(filename))\n",
    "    synth_file = open(\"synth_status\", \"r\")\n",
    "    synth_status = synth_file.read().split()[-1]\n",
    "    if synth_status == \"ERROR\":\n",
    "        print(f\"Synthesis failed for {filename}\")\n",
    "        continue\n",
    "    impl_file = open(\"impl_status\", \"r\")\n",
    "    impl_status = impl_file.read().split()[-1]\n",
    "    if impl_status == \"ERROR\":\n",
    "        print(f\"Implementation failed for {filename}\")\n",
    "        continue\n",
    "    data_files.append(filename[:-2])\n",
    "    print(\"{} reported\".format(filename)) "
   ]
  },
  {
   "cell_type": "code",
   "execution_count": 24,
   "metadata": {},
   "outputs": [
    {
     "name": "stdout",
     "output_type": "stream",
     "text": [
      "['adder_1bit', 'Barrel_shifter', 'binary_multiplier', 'FSM_mealy', 'FSM_moore', 'logic_gate', 'shifter', 'universal_register']\n"
     ]
    }
   ],
   "source": [
    "print(data_files)"
   ]
  },
  {
   "cell_type": "code",
   "execution_count": 25,
   "metadata": {},
   "outputs": [],
   "source": [
    "file_types = ['power.txt','timing.txt','utilization.txt']\n",
    "\n",
    "req_data = ['Total On-Chip Power','Data Path Delay','Slice LUTs']\n",
    "\n",
    "Power = []\n",
    "Delay = []\n",
    "LUTs = []"
   ]
  },
  {
   "cell_type": "code",
   "execution_count": 26,
   "metadata": {},
   "outputs": [
    {
     "name": "stdout",
     "output_type": "stream",
     "text": [
      "1.034\n",
      "5.896\n",
      "1.0\n",
      "_____\n",
      "1.388\n",
      "6.218\n",
      "4.0\n",
      "_____\n",
      "13.675\n",
      "10.976\n",
      "69.0\n",
      "_____\n",
      "0.338\n",
      "4.356\n",
      "5.0\n",
      "_____\n",
      "0.393\n",
      "4.204\n",
      "5.0\n",
      "_____\n",
      "1.388\n",
      "6.218\n",
      "4.0\n",
      "_____\n",
      "1.408\n",
      "4.419\n",
      "3.0\n",
      "_____\n",
      "1.901\n",
      "4.315\n",
      "9.0\n",
      "_____\n"
     ]
    }
   ],
   "source": [
    "for data in data_files :\n",
    "    for file in file_types:\n",
    "        with open(\"results/{}/{}\".format(data,file),'r') as File:\n",
    "             content = File.read()\n",
    "\n",
    "        words = content.split('\\n')   \n",
    "\n",
    "        for req_word in words:\n",
    "            if file_types[0] in file:\n",
    "                if req_data[0] in req_word:\n",
    "                    pwr = float(req_word.split()[6])\n",
    "                    print(pwr)\n",
    "                    Power.append(pwr)\n",
    "  \n",
    "\n",
    "        for req_word in words:\n",
    "            if file_types[1] in file:\n",
    "                if req_data[1] in req_word:\n",
    "                    delay = float(req_word.split()[3][:-2])\n",
    "                    print(delay)\n",
    "                    Delay.append(delay)\n",
    "\n",
    "\n",
    "        for req_word in words:\n",
    "            if file_types[2] in file:\n",
    "                if req_data[2] in req_word:\n",
    "                    luts = float(req_word.split()[4])\n",
    "                    print(luts) \n",
    "                    LUTs.append(luts) \n",
    "                    print(\"_____\")    "
   ]
  },
  {
   "cell_type": "code",
   "execution_count": 27,
   "metadata": {},
   "outputs": [
    {
     "name": "stdout",
     "output_type": "stream",
     "text": [
      "       adder_1bit  Barrel_shifter  ...  shifter  universal_register\n",
      "Power       1.034           1.388  ...    1.408               1.901\n",
      "Delay       5.896           6.218  ...    4.419               4.315\n",
      "LUTs        1.000           4.000  ...    3.000               9.000\n",
      "\n",
      "[3 rows x 8 columns]\n"
     ]
    }
   ],
   "source": [
    "Final_results = [Power,Delay,LUTs]\n",
    "row_name = ['Power','Delay','LUTs']\n",
    "\n",
    "df = pd.DataFrame(Final_results, index = row_name)\n",
    "df.columns = data_files\n",
    "\n",
    "df.to_csv('Final_results.csv', index = row_name)\n",
    "print(df)"
   ]
  }
 ],
 "metadata": {
  "kernelspec": {
   "display_name": "Python 3",
   "language": "python",
   "name": "python3"
  },
  "language_info": {
   "codemirror_mode": {
    "name": "ipython",
    "version": 3
   },
   "file_extension": ".py",
   "mimetype": "text/x-python",
   "name": "python",
   "nbconvert_exporter": "python",
   "pygments_lexer": "ipython3",
   "version": "3.11.0"
  }
 },
 "nbformat": 4,
 "nbformat_minor": 2
}
